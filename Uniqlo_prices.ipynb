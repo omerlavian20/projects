{
 "cells": [
  {
   "cell_type": "markdown",
   "metadata": {},
   "source": [
    "# Predicting Uniqlo Stock Prices with Machine Learning"
   ]
  },
  {
   "cell_type": "markdown",
   "metadata": {},
   "source": [
    "## Objective Statement"
   ]
  },
  {
   "cell_type": "markdown",
   "metadata": {},
   "source": [
    "The goal of this project is to produce a machine learning model that can predict the closing price of Uniqlo stock. While stock price prediction is always an important task, now more than ever, in such turbulent times, when financial wellness is so difficult to attain, it is **essential** that inidividuals use data-driven methodologies like this to make investments that will maintain their financial stability."
   ]
  },
  {
   "cell_type": "markdown",
   "metadata": {},
   "source": [
    "## Data Loading and Preparation"
   ]
  },
  {
   "cell_type": "code",
   "execution_count": 1,
   "metadata": {},
   "outputs": [],
   "source": [
    "#import necessary libraries\n",
    "import pandas as pd\n",
    "import numpy as np"
   ]
  },
  {
   "cell_type": "code",
   "execution_count": 2,
   "metadata": {
    "scrolled": true
   },
   "outputs": [
    {
     "data": {
      "text/html": [
       "<div>\n",
       "<style scoped>\n",
       "    .dataframe tbody tr th:only-of-type {\n",
       "        vertical-align: middle;\n",
       "    }\n",
       "\n",
       "    .dataframe tbody tr th {\n",
       "        vertical-align: top;\n",
       "    }\n",
       "\n",
       "    .dataframe thead th {\n",
       "        text-align: right;\n",
       "    }\n",
       "</style>\n",
       "<table border=\"1\" class=\"dataframe\">\n",
       "  <thead>\n",
       "    <tr style=\"text-align: right;\">\n",
       "      <th></th>\n",
       "      <th>Date</th>\n",
       "      <th>Open</th>\n",
       "      <th>High</th>\n",
       "      <th>Low</th>\n",
       "      <th>Close</th>\n",
       "      <th>Volume</th>\n",
       "      <th>Stock Trading</th>\n",
       "    </tr>\n",
       "  </thead>\n",
       "  <tbody>\n",
       "    <tr>\n",
       "      <th>0</th>\n",
       "      <td>2016-12-30</td>\n",
       "      <td>42120</td>\n",
       "      <td>42330</td>\n",
       "      <td>41700</td>\n",
       "      <td>41830</td>\n",
       "      <td>610000</td>\n",
       "      <td>25628028000</td>\n",
       "    </tr>\n",
       "    <tr>\n",
       "      <th>1</th>\n",
       "      <td>2016-12-29</td>\n",
       "      <td>43000</td>\n",
       "      <td>43220</td>\n",
       "      <td>42540</td>\n",
       "      <td>42660</td>\n",
       "      <td>448400</td>\n",
       "      <td>19188227000</td>\n",
       "    </tr>\n",
       "    <tr>\n",
       "      <th>2</th>\n",
       "      <td>2016-12-28</td>\n",
       "      <td>43940</td>\n",
       "      <td>43970</td>\n",
       "      <td>43270</td>\n",
       "      <td>43270</td>\n",
       "      <td>339900</td>\n",
       "      <td>14780670000</td>\n",
       "    </tr>\n",
       "    <tr>\n",
       "      <th>3</th>\n",
       "      <td>2016-12-27</td>\n",
       "      <td>43140</td>\n",
       "      <td>43700</td>\n",
       "      <td>43140</td>\n",
       "      <td>43620</td>\n",
       "      <td>400100</td>\n",
       "      <td>17427993000</td>\n",
       "    </tr>\n",
       "    <tr>\n",
       "      <th>4</th>\n",
       "      <td>2016-12-26</td>\n",
       "      <td>43310</td>\n",
       "      <td>43660</td>\n",
       "      <td>43090</td>\n",
       "      <td>43340</td>\n",
       "      <td>358200</td>\n",
       "      <td>15547803000</td>\n",
       "    </tr>\n",
       "  </tbody>\n",
       "</table>\n",
       "</div>"
      ],
      "text/plain": [
       "         Date   Open   High    Low  Close  Volume  Stock Trading\n",
       "0  2016-12-30  42120  42330  41700  41830  610000    25628028000\n",
       "1  2016-12-29  43000  43220  42540  42660  448400    19188227000\n",
       "2  2016-12-28  43940  43970  43270  43270  339900    14780670000\n",
       "3  2016-12-27  43140  43700  43140  43620  400100    17427993000\n",
       "4  2016-12-26  43310  43660  43090  43340  358200    15547803000"
      ]
     },
     "execution_count": 2,
     "metadata": {},
     "output_type": "execute_result"
    }
   ],
   "source": [
    "#read in data\n",
    "uniqlo_stock = pd.read_csv(\"uniqlo_data.csv\").dropna()\n",
    "uniqlo_stock.head()"
   ]
  },
  {
   "cell_type": "code",
   "execution_count": 3,
   "metadata": {},
   "outputs": [
    {
     "data": {
      "text/html": [
       "<div>\n",
       "<style scoped>\n",
       "    .dataframe tbody tr th:only-of-type {\n",
       "        vertical-align: middle;\n",
       "    }\n",
       "\n",
       "    .dataframe tbody tr th {\n",
       "        vertical-align: top;\n",
       "    }\n",
       "\n",
       "    .dataframe thead th {\n",
       "        text-align: right;\n",
       "    }\n",
       "</style>\n",
       "<table border=\"1\" class=\"dataframe\">\n",
       "  <thead>\n",
       "    <tr style=\"text-align: right;\">\n",
       "      <th></th>\n",
       "      <th>Open</th>\n",
       "      <th>High</th>\n",
       "      <th>Low</th>\n",
       "      <th>Close</th>\n",
       "      <th>Volume</th>\n",
       "      <th>Stock Trading</th>\n",
       "    </tr>\n",
       "  </thead>\n",
       "  <tbody>\n",
       "    <tr>\n",
       "      <th>0</th>\n",
       "      <td>42120</td>\n",
       "      <td>42330</td>\n",
       "      <td>41700</td>\n",
       "      <td>41830</td>\n",
       "      <td>610000</td>\n",
       "      <td>25628028000</td>\n",
       "    </tr>\n",
       "    <tr>\n",
       "      <th>1</th>\n",
       "      <td>43000</td>\n",
       "      <td>43220</td>\n",
       "      <td>42540</td>\n",
       "      <td>42660</td>\n",
       "      <td>448400</td>\n",
       "      <td>19188227000</td>\n",
       "    </tr>\n",
       "    <tr>\n",
       "      <th>2</th>\n",
       "      <td>43940</td>\n",
       "      <td>43970</td>\n",
       "      <td>43270</td>\n",
       "      <td>43270</td>\n",
       "      <td>339900</td>\n",
       "      <td>14780670000</td>\n",
       "    </tr>\n",
       "    <tr>\n",
       "      <th>3</th>\n",
       "      <td>43140</td>\n",
       "      <td>43700</td>\n",
       "      <td>43140</td>\n",
       "      <td>43620</td>\n",
       "      <td>400100</td>\n",
       "      <td>17427993000</td>\n",
       "    </tr>\n",
       "    <tr>\n",
       "      <th>4</th>\n",
       "      <td>43310</td>\n",
       "      <td>43660</td>\n",
       "      <td>43090</td>\n",
       "      <td>43340</td>\n",
       "      <td>358200</td>\n",
       "      <td>15547803000</td>\n",
       "    </tr>\n",
       "  </tbody>\n",
       "</table>\n",
       "</div>"
      ],
      "text/plain": [
       "    Open   High    Low  Close  Volume  Stock Trading\n",
       "0  42120  42330  41700  41830  610000    25628028000\n",
       "1  43000  43220  42540  42660  448400    19188227000\n",
       "2  43940  43970  43270  43270  339900    14780670000\n",
       "3  43140  43700  43140  43620  400100    17427993000\n",
       "4  43310  43660  43090  43340  358200    15547803000"
      ]
     },
     "execution_count": 3,
     "metadata": {},
     "output_type": "execute_result"
    }
   ],
   "source": [
    "uniqlo_stock.drop(['Date'], axis=1, inplace=True)\n",
    "\n",
    "uniqlo_stock.head()"
   ]
  },
  {
   "cell_type": "markdown",
   "metadata": {},
   "source": [
    "For simplicity of model training, date will not be considered in this analysis."
   ]
  },
  {
   "cell_type": "code",
   "execution_count": 4,
   "metadata": {},
   "outputs": [
    {
     "data": {
      "text/plain": [
       "(1226, 6)"
      ]
     },
     "execution_count": 4,
     "metadata": {},
     "output_type": "execute_result"
    }
   ],
   "source": [
    "uniqlo_stock.shape"
   ]
  },
  {
   "cell_type": "markdown",
   "metadata": {},
   "source": [
    "The next step in our data preparation process is to standardize the data so that there is no bias introduced into our results by differences in the scale of each variable."
   ]
  },
  {
   "cell_type": "code",
   "execution_count": 5,
   "metadata": {},
   "outputs": [],
   "source": [
    "Y = uniqlo_stock.loc[:, 'Close']"
   ]
  },
  {
   "cell_type": "code",
   "execution_count": 6,
   "metadata": {},
   "outputs": [
    {
     "data": {
      "text/html": [
       "<div>\n",
       "<style scoped>\n",
       "    .dataframe tbody tr th:only-of-type {\n",
       "        vertical-align: middle;\n",
       "    }\n",
       "\n",
       "    .dataframe tbody tr th {\n",
       "        vertical-align: top;\n",
       "    }\n",
       "\n",
       "    .dataframe thead th {\n",
       "        text-align: right;\n",
       "    }\n",
       "</style>\n",
       "<table border=\"1\" class=\"dataframe\">\n",
       "  <thead>\n",
       "    <tr style=\"text-align: right;\">\n",
       "      <th></th>\n",
       "      <th>std_high</th>\n",
       "      <th>st_low</th>\n",
       "      <th>std_open</th>\n",
       "      <th>std_volume</th>\n",
       "      <th>std_trading</th>\n",
       "    </tr>\n",
       "  </thead>\n",
       "  <tbody>\n",
       "    <tr>\n",
       "      <th>0</th>\n",
       "      <td>0.745638</td>\n",
       "      <td>0.781205</td>\n",
       "      <td>0.773944</td>\n",
       "      <td>-0.284260</td>\n",
       "      <td>0.079879</td>\n",
       "    </tr>\n",
       "    <tr>\n",
       "      <th>1</th>\n",
       "      <td>0.827051</td>\n",
       "      <td>0.859773</td>\n",
       "      <td>0.855357</td>\n",
       "      <td>-0.675024</td>\n",
       "      <td>-0.342215</td>\n",
       "    </tr>\n",
       "    <tr>\n",
       "      <th>2</th>\n",
       "      <td>0.895658</td>\n",
       "      <td>0.928053</td>\n",
       "      <td>0.942322</td>\n",
       "      <td>-0.937387</td>\n",
       "      <td>-0.631107</td>\n",
       "    </tr>\n",
       "    <tr>\n",
       "      <th>3</th>\n",
       "      <td>0.870960</td>\n",
       "      <td>0.915894</td>\n",
       "      <td>0.868310</td>\n",
       "      <td>-0.791818</td>\n",
       "      <td>-0.457589</td>\n",
       "    </tr>\n",
       "    <tr>\n",
       "      <th>4</th>\n",
       "      <td>0.867301</td>\n",
       "      <td>0.911217</td>\n",
       "      <td>0.884037</td>\n",
       "      <td>-0.893136</td>\n",
       "      <td>-0.580826</td>\n",
       "    </tr>\n",
       "  </tbody>\n",
       "</table>\n",
       "</div>"
      ],
      "text/plain": [
       "   std_high    st_low  std_open  std_volume  std_trading\n",
       "0  0.745638  0.781205  0.773944   -0.284260     0.079879\n",
       "1  0.827051  0.859773  0.855357   -0.675024    -0.342215\n",
       "2  0.895658  0.928053  0.942322   -0.937387    -0.631107\n",
       "3  0.870960  0.915894  0.868310   -0.791818    -0.457589\n",
       "4  0.867301  0.911217  0.884037   -0.893136    -0.580826"
      ]
     },
     "execution_count": 6,
     "metadata": {},
     "output_type": "execute_result"
    }
   ],
   "source": [
    "\n",
    "#standardizing X \n",
    "\n",
    "from sklearn.preprocessing import StandardScaler\n",
    "\n",
    "scaler = StandardScaler()\n",
    "\n",
    "high = uniqlo_stock.loc[:,'High'].values\n",
    "\n",
    "low = uniqlo_stock.loc[:,'Low'].values\n",
    "\n",
    "open_price = uniqlo_stock.loc[:,'Open'].values\n",
    "\n",
    "volume = uniqlo_stock.loc[:,'Volume'].values\n",
    "\n",
    "trading = uniqlo_stock.loc[:,'Stock Trading'].values\n",
    "\n",
    "\n",
    "\n",
    "std_high = scaler.fit_transform(high.reshape((-1,1)))\n",
    "\n",
    "std_low = scaler.fit_transform(low.reshape((-1,1)))\n",
    "\n",
    "std_open = scaler.fit_transform(open_price.reshape((-1,1)))\n",
    "\n",
    "std_volume = scaler.fit_transform(volume.reshape((-1,1)))\n",
    "\n",
    "std_trading = scaler.fit_transform(trading.reshape((-1,1)))\n",
    "\n",
    "\n",
    "\n",
    "std_high = pd.DataFrame(std_high, columns=['std_high'])\n",
    "\n",
    "std_low = pd.DataFrame(std_low, columns=['st_low'])\n",
    "\n",
    "std_open = pd.DataFrame(std_open, columns=['std_open'])\n",
    "\n",
    "std_volume = pd.DataFrame(std_volume, columns=['std_volume'])\n",
    "\n",
    "std_trading = pd.DataFrame(std_trading, columns=['std_trading'])\n",
    "\n",
    "\n",
    "\n",
    "\n",
    "\n",
    "##creating final X\n",
    "\n",
    "X = pd.concat([std_high, std_low, std_open, std_volume, std_trading], axis=1, join='inner')\n",
    "\n",
    "X.head()\n",
    "\n"
   ]
  },
  {
   "cell_type": "code",
   "execution_count": 7,
   "metadata": {},
   "outputs": [
    {
     "data": {
      "text/plain": [
       "(1226, 5)"
      ]
     },
     "execution_count": 7,
     "metadata": {},
     "output_type": "execute_result"
    }
   ],
   "source": [
    "X.shape"
   ]
  },
  {
   "cell_type": "markdown",
   "metadata": {},
   "source": [
    "## Model Creation and Testing"
   ]
  },
  {
   "cell_type": "markdown",
   "metadata": {},
   "source": [
    "Now that the data are prepared for analysis, let us create several regression models and test their out-of-sample fit on our prepared data."
   ]
  },
  {
   "cell_type": "code",
   "execution_count": 8,
   "metadata": {},
   "outputs": [],
   "source": [
    "#importing linear regression model\n",
    "from sklearn.linear_model import LinearRegression\n",
    "from sklearn.model_selection import cross_val_score\n",
    "from sklearn.metrics import mean_squared_error\n",
    "from sklearn.metrics import make_scorer"
   ]
  },
  {
   "cell_type": "code",
   "execution_count": 9,
   "metadata": {},
   "outputs": [
    {
     "name": "stdout",
     "output_type": "stream",
     "text": [
      "Linear Regression Average MSE: 73449.84305212226\n",
      "The linear regression model, on average, predicts closing price within 271.02 units (Currency details are not available in the dataset.).\n",
      "Random Forest Average MSE: 10135185.664222077\n",
      "The random forest model, on average, predicts closing price within 3183.58 units (Currency details are not available in the dataset.).\n",
      "Decision Tree Average MSE: 9813262.475194955\n",
      "The decision tree model, on average, predicts closing price within 3132.61 units (Currency details are not available in the dataset.).\n"
     ]
    }
   ],
   "source": [
    "#create and test regression model\n",
    "\n",
    "stock_lr = LinearRegression()\n",
    "\n",
    "from sklearn.ensemble import RandomForestRegressor\n",
    "from sklearn.tree import DecisionTreeRegressor\n",
    "\n",
    "stock_rf = RandomForestRegressor()\n",
    "stock_dt = DecisionTreeRegressor()\n",
    "\n",
    "\n",
    "\n",
    "lr_score = np.mean(cross_val_score(stock_lr, X, Y, scoring=make_scorer(mean_squared_error)))\n",
    "\n",
    "rf_score = np.mean(cross_val_score(stock_rf, X, Y, scoring=make_scorer(mean_squared_error)))\n",
    "\n",
    "dt_score = np.mean(cross_val_score(stock_dt, X, Y, scoring=make_scorer(mean_squared_error)))\n",
    "\n",
    "\n",
    "\n",
    "print(f'Linear Regression Average MSE: {lr_score}')\n",
    "lr_loss = lr_score ** 0.5\n",
    "print(f'The linear regression model, on average, predicts closing price within {lr_loss:.5} units (Currency details are not available in the dataset.).')\n",
    "\n",
    "\n",
    "print(f'Random Forest Average MSE: {rf_score}')\n",
    "rf_loss = rf_score ** 0.5\n",
    "print(f'The random forest model, on average, predicts closing price within {rf_loss:.6} units (Currency details are not available in the dataset.).')\n",
    "\n",
    "\n",
    "print(f'Decision Tree Average MSE: {dt_score}')\n",
    "dt_loss = dt_score ** 0.5\n",
    "print(f'The decision tree model, on average, predicts closing price within {dt_loss:.6} units (Currency details are not available in the dataset.).')\n"
   ]
  },
  {
   "cell_type": "markdown",
   "metadata": {},
   "source": [
    "**Note:** Model testing is done here by finding mean squared error via five-fold cross validation. This allows for better model evaluation than a metric like R-squared, which is a less direct, and thus less useful, measure of a model's predictive ability."
   ]
  },
  {
   "cell_type": "markdown",
   "metadata": {},
   "source": [
    "As we can see from the results above, the linear regression algorithm is by far the best model with which to predict Uniqlo closing stock price. Let us now see if we can improve this model with hyperparameter tuning."
   ]
  },
  {
   "cell_type": "markdown",
   "metadata": {},
   "source": [
    "## Hyperparameter Tuning"
   ]
  },
  {
   "cell_type": "code",
   "execution_count": 10,
   "metadata": {},
   "outputs": [
    {
     "data": {
      "text/plain": [
       "{'copy_X': True, 'fit_intercept': True, 'n_jobs': None, 'normalize': False}"
      ]
     },
     "execution_count": 10,
     "metadata": {},
     "output_type": "execute_result"
    }
   ],
   "source": [
    "#see model parameters\n",
    "stock_lr.get_params()"
   ]
  },
  {
   "cell_type": "code",
   "execution_count": 11,
   "metadata": {},
   "outputs": [
    {
     "data": {
      "text/plain": [
       "GridSearchCV(estimator=LinearRegression(),\n",
       "             param_grid={'copy_X': [True, False],\n",
       "                         'fit_intercept': [True, False], 'n_jobs': [1, -1],\n",
       "                         'normalize': [True, False]})"
      ]
     },
     "execution_count": 11,
     "metadata": {},
     "output_type": "execute_result"
    }
   ],
   "source": [
    "#trying diffferent paramater combinations\n",
    "from sklearn.model_selection import GridSearchCV\n",
    "\n",
    "\n",
    "param_grid = {\n",
    "    'copy_X': [True, False],\n",
    "    'fit_intercept': [True, False],\n",
    "    'n_jobs': [1,-1],\n",
    "    'normalize': [True, False]\n",
    "}\n",
    "\n",
    "grid_search = GridSearchCV(estimator=stock_lr, param_grid = param_grid)\n",
    "\n",
    "grid_search.fit(X, Y)"
   ]
  },
  {
   "cell_type": "code",
   "execution_count": 12,
   "metadata": {},
   "outputs": [
    {
     "data": {
      "text/plain": [
       "{'copy_X': True, 'fit_intercept': True, 'n_jobs': 1, 'normalize': True}"
      ]
     },
     "execution_count": 12,
     "metadata": {},
     "output_type": "execute_result"
    }
   ],
   "source": [
    "grid_search.best_params_"
   ]
  },
  {
   "cell_type": "code",
   "execution_count": 13,
   "metadata": {},
   "outputs": [
    {
     "name": "stdout",
     "output_type": "stream",
     "text": [
      "Tuned Regression Average MSE: 73449.84305212248\n",
      "The linear regression model, on average, predicts closing price within 271.02 units.\n"
     ]
    }
   ],
   "source": [
    "#tuned model \n",
    "\n",
    "tuned_lr = LinearRegression(normalize=True)\n",
    "\n",
    "tuned_lr.fit(X, Y)\n",
    "\n",
    "tuned_lr_score = np.mean(cross_val_score(tuned_lr, X, Y, scoring=make_scorer(mean_squared_error)))\n",
    "\n",
    "print(f'Tuned Regression Average MSE: {tuned_lr_score}')\n",
    "tuned_lr_loss = tuned_lr_score ** 0.5\n",
    "print(f'The linear regression model, on average, predicts closing price within {tuned_lr_loss:.5} units.')"
   ]
  },
  {
   "cell_type": "code",
   "execution_count": 15,
   "metadata": {},
   "outputs": [
    {
     "name": "stdout",
     "output_type": "stream",
     "text": [
      "The average margin of error for the tuned regression model is 1.98% of the lowest closing price in the dataset.\n"
     ]
    }
   ],
   "source": [
    "#finding max percent error of model\n",
    "\n",
    "#finding lowest price in dataset\n",
    "lowest_closing_price = np.min(Y)\n",
    "\n",
    "#finding percent of this number to get conservative estimate of model error\n",
    "\n",
    "percent_error = (tuned_lr_loss / lowest_closing_price) * 100\n",
    "\n",
    "print(f'The average margin of error for the tuned regression model is {percent_error:.3}% of the lowest closing price in the dataset.')\n"
   ]
  },
  {
   "cell_type": "code",
   "execution_count": 16,
   "metadata": {},
   "outputs": [
    {
     "data": {
      "text/plain": [
       "1.9753375736385577"
      ]
     },
     "execution_count": 16,
     "metadata": {},
     "output_type": "execute_result"
    }
   ],
   "source": [
    "percent_error"
   ]
  },
  {
   "cell_type": "markdown",
   "metadata": {},
   "source": [
    "## Conclusion"
   ]
  },
  {
   "cell_type": "markdown",
   "metadata": {},
   "source": [
    "The hyperparameter tuning step produced a model that is virtually identical in out-of-sample fit to the default linear regression model. This model can predict closing price, on average, within 1.98% of the lowest closing price available in the training data.\n",
    "\n",
    "While the results of this project are quite impressive, this project could still be modified to produce more useful results. In particular, the dataset used here was last updated four years ago, so a more applicable model would be attained with more recent data.   \n",
    "\n",
    "\n",
    "Finally, given the utility of linear regression in predicting the Uniqlo closing stock price, the results of this analysis suggest that linear regression should be considered for future closing stock price prediction projects."
   ]
  },
  {
   "cell_type": "markdown",
   "metadata": {},
   "source": [
    "### References:\n",
    "\n",
    "Previous Coursework\n",
    "\n",
    "Classmate Consultation\n",
    "\n",
    "[Dataset Source](https://www.kaggle.com/daiearth22/uniqlo-fastretailing-stock-price-prediction)\n",
    "\n",
    "[Making Heatmaps](https://matplotlib.org/stable/gallery/images_contours_and_fields/image_annotated_heatmap.html)\n",
    "\n",
    "[Multicolinearity Discussion](https://stattrek.com/multiple-regression/multicollinearity.aspx#:~:text=There%20are%20two%20popular%20ways,factor%20for%20each%20independent%20variable.)\n",
    "\n",
    "[More Multicolinearity Discussion](https://statisticsbyjim.com/regression/multicollinearity-in-regression-analysis/#:~:text=Fortunately%2C%20there%20is%20a%20very,VIF%20for%20each%20independent%20variable.)\n",
    "\n",
    "[Links in Markdown](https://markdownmonster.west-wind.com/docs/_4xs10gaui.htm)\n",
    "\n",
    "[Computing VIF with Python](https://www.geeksforgeeks.org/detecting-multicollinearity-with-vif-python/)\n",
    "\n",
    "[Copying a DataFrame](https://pandas.pydata.org/docs/reference/api/pandas.DataFrame.copy.html)\n",
    "\n",
    "[One Hot Encoder Documentation](https://scikit-learn.org/stable/modules/generated/sklearn.preprocessing.OneHotEncoder.html)\n",
    "\n",
    "[Pandas DropNA](https://pandas.pydata.org/pandas-docs/stable/reference/api/pandas.DataFrame.dropna.html)\n",
    "\n",
    "[Pandas One-Hot Encoding](https://stackabuse.com/one-hot-encoding-in-python-with-pandas-and-scikit-learn/)\n",
    "\n",
    "[Discussion of Dropping a Dummy](https://datascience.stackexchange.com/questions/27957/why-do-we-need-to-discard-one-dummy-variable)\n",
    "\n",
    "[Skewed Data/Data Preparation](https://towardsdatascience.com/top-3-methods-for-handling-skewed-data-1334e0debf45)\n",
    "\n",
    "[Linear Regression Documentation](https://scikit-learn.org/stable/modules/generated/sklearn.linear_model.LinearRegression.html)\n",
    "\n",
    "[LASSO Regression Documentation](https://scikit-learn.org/stable/modules/generated/sklearn.linear_model.Lasso.html)\n",
    "\n",
    "[Assuming Normality of Y in Linear Regression](https://thestatsgeek.com/2013/08/07/assumptions-for-linear-regression/)\n",
    "\n",
    "[Numpy Histogram Documenation](https://numpy.org/doc/stable/reference/generated/numpy.histogram.html)\n",
    "\n",
    "[Seaborn Color Palattes](https://seaborn.pydata.org/tutorial/color_palettes.html)\n",
    "\n",
    "[Sklearn Standard Scaler](https://scikit-learn.org/stable/modules/generated/sklearn.preprocessing.StandardScaler.html)  \n",
    "  \n",
    "[Sklearn K-fold](https://scikit-learn.org/stable/modules/generated/sklearn.model_selection.KFold.html)\n",
    "\n",
    "[Sklearn MSE](https://scikit-learn.org/stable/modules/generated/sklearn.metrics.mean_squared_error.html)\n",
    "\n",
    "[Sklearn Cross-Validation](https://scikit-learn.org/stable/modules/generated/sklearn.model_selection.cross_val_score.html)\n",
    "\n",
    "[Sklearn Linear Regression](https://scikit-learn.org/stable/modules/generated/sklearn.linear_model.LinearRegression.html)\n",
    "\n",
    "[Markdown Syntax Reference](https://www.math.mcgill.ca/yyang/regression/RMarkdown/example.html)\n",
    "\n",
    "[Make Scorer Sklearn](https://scikit-learn.org/stable/modules/generated/sklearn.metrics.make_scorer.html)\n",
    "\n",
    "[Reshaping Pandas Series](https://www.geeksforgeeks.org/how-to-reshape-pandas-series/)\n",
    "\n",
    "[K-Fold Cross Validation Discussion](https://towardsdatascience.com/why-and-how-to-cross-validate-a-model-d6424b45261f)\n",
    "\n",
    "[More K-Fold Cross Validation Disucssion](https://machinelearningmastery.com/k-fold-cross-validation/)\n",
    "\n",
    "[Standarization for Regression](https://medium.com/@kylecaron/introduction-to-linear-regression-part-2-standardization-and-regression-diagnostics-a15cb27944b1)\n",
    "\n",
    "[Decision Tree Regressor](https://scikit-learn.org/stable/modules/generated/sklearn.tree.DecisionTreeRegressor.html)\n",
    "\n",
    "[Random Forest Regressor](https://scikit-learn.org/stable/modules/generated/sklearn.ensemble.RandomForestRegressor.html)\n",
    "\n",
    "[Random Forest Regression Discussion](https://neptune.ai/blog/random-forest-regression-when-does-it-fail-and-why)\n",
    "\n",
    "[Standardization Discussion](https://statisticsbyjim.com/regression/standardize-variables-regression/)\n",
    "\n",
    "[Standardization of Y](https://stats.stackexchange.com/questions/278566/if-you-standardize-x-must-you-always-standardize-y)\n",
    "\n",
    "[Example Regression with this Dataset](https://www.kaggle.com/fillerink/basic-linear-regression-with-housing-prices)\n",
    "\n",
    "[Seaborn Heatmap Tips](https://heartbeat.fritz.ai/seaborn-heatmaps-13-ways-to-customize-correlation-matrix-visualizations-f1c49c816f07)\n",
    "\n",
    "[Definition of MSE](https://www.statisticshowto.com/probability-and-statistics/statistics-definitions/mean-squared-error/#:~:text=The%20mean%20squared%20error%20tells,to%20remove%20any%20negative%20signs.)\n",
    "\n",
    "[Pandas Set Index](https://pandas.pydata.org/docs/reference/api/pandas.DataFrame.index.html?highlight=index#pandas.DataFrame.index)\n",
    "\n",
    "[Pandas Index](https://pandas.pydata.org/docs/reference/api/pandas.DataFrame.index.html?highlight=index#pandas.DataFrame.index)\n",
    "\n",
    "[Sklearn Cross Validation General Discussion](https://scikit-learn.org/stable/modules/cross_validation.html)\n",
    "\n",
    "[Stock Market Prediction Reference](https://www.kaggle.com/getting-started/94106)\n",
    "\n",
    "[Reference to Data Used](https://www.kaggle.com/learn-forum/167685)\n",
    "\n",
    "[Sample Project with Dataset](https://www.kaggle.com/mehmetkasap/stock-price-prediction-lstm)\n",
    "\n",
    "[Stock Market Data Definitions](https://analyzingalpha.com/open-high-low-close-stocks#:~:text=In%20stock%20trading%2C%20the%20high,total%20amount%20of%20trading%20activity.)\n",
    "\n",
    "[Linear Regression Guide Sklearn](https://realpython.com/linear-regression-in-python/)\n",
    "\n",
    "[Linear Regression Hyperparameter Tuning](https://stackoverflow.com/questions/60454618/is-it-possible-to-tune-the-linear-regression-hyperparameter-in-sklearn)\n",
    "\n",
    "[Grid Search Documentation](https://scikit-learn.org/stable/modules/generated/sklearn.model_selection.GridSearchCV.html)\n",
    "\n",
    "[Grid Search Tutorial](https://machinelearningmastery.com/hyperparameter-optimization-with-random-search-and-grid-search/)"
   ]
  }
 ],
 "metadata": {
  "kernelspec": {
   "display_name": "Python 3",
   "language": "python",
   "name": "python3"
  },
  "language_info": {
   "codemirror_mode": {
    "name": "ipython",
    "version": 3
   },
   "file_extension": ".py",
   "mimetype": "text/x-python",
   "name": "python",
   "nbconvert_exporter": "python",
   "pygments_lexer": "ipython3",
   "version": "3.8.3"
  }
 },
 "nbformat": 4,
 "nbformat_minor": 4
}
